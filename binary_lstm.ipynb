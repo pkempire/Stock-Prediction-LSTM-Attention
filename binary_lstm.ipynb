{
 "cells": [
  {
   "cell_type": "code",
   "execution_count": 45,
   "metadata": {},
   "outputs": [],
   "source": [
    "from tensorflow.python.keras.layers import Input, Dense, LSTM, Dropout\n",
    "from tensorflow.python.keras.models import Sequential\n",
    "import tensorflow as tf\n",
    "from keras.utils import plot_model\n",
    "from keras.optimizers import SGD, Adam\n",
    "from sklearn.metrics import f1_score, precision_score, confusion_matrix, recall_score, accuracy_score\n",
    "import datetime as dt\n",
    "import pandas_datareader as pdr\n",
    "from pandas.plotting import register_matplotlib_converters\n",
    "import matplotlib.pyplot as plt\n",
    "from ta import add_all_ta_features\n",
    "import warnings\n",
    "warnings.filterwarnings(\"ignore\")\n",
    "import pandas as pd\n",
    "register_matplotlib_converters()\n",
    "import numpy as np\n",
    "from ta.momentum import RSIIndicator\n",
    "from ta.trend import MACD\n",
    "from ta.volatility import bollinger_pband\n",
    "import seaborn as sns\n",
    "import time\n",
    "\n",
    "import numpy as np\n",
    "import pandas as pd\n",
    "from sklearn.preprocessing import MinMaxScaler\n",
    "import scipy.stats as stats\n",
    "import sklearn.preprocessing as prep\n",
    "pd.set_option('display.max_rows', None)\n",
    "pd.set_option('display.expand_frame_repr', False)\n",
    "from datetime import datetime\n",
    "import yfinance as yf\n",
    "import pandas_datareader.data as pdr\n",
    "import pandas as pd\n",
    "yf.pdr_override()"
   ]
  },
  {
   "cell_type": "code",
   "execution_count": 26,
   "metadata": {},
   "outputs": [],
   "source": [
    "def get_exp_preprocessing(df):\n",
    "    edata = df.ewm(alpha=0.9).mean()   \n",
    "    return edata"
   ]
  },
  {
   "cell_type": "code",
   "execution_count": 27,
   "metadata": {},
   "outputs": [],
   "source": [
    "def preprocesses(data):\n",
    "    data['pred'] = data['Adj Close']\n",
    "    predList = []\n",
    "    y = 0\n",
    "    for i in data['pred']:\n",
    "        predList.append(i)\n",
    "\n",
    "    while y < data.shape[0] -1 :\n",
    "        diff = predList[y] - predList[y+1]\n",
    "        if diff > 0:\n",
    "            predList[y] = 0\n",
    "        else:\n",
    "            predList[y] = 1\n",
    "        y += 1\n",
    "\n",
    "    data['pred'] = predList\n",
    "    data = data.drop(['High', 'Low', 'Adj Close'], 1)\n",
    "    data['Open'] = data['Open'].pct_change() \n",
    "    data['Close'] = data['Close'].pct_change() \n",
    "    data['Volume'] = data['Volume'].pct_change()\n",
    "    data = data.dropna()\n",
    "    return data"
   ]
  },
  {
   "cell_type": "code",
   "execution_count": 28,
   "metadata": {},
   "outputs": [],
   "source": [
    "def prepare_data(data):\n",
    "    \n",
    "    del (data['pred'])\n",
    "    data = data.dropna()\n",
    "    return data\n",
    "    \n",
    "def split_x_y(data_final):\n",
    "    Y = data_final['pred'].values\n",
    "    train_scaled = prepare_data(data_final)\n",
    "    train_scaled = train_scaled.iloc[1: , :]\n",
    "    Y = Y[:-1]\n",
    "    return train_scaled, Y"
   ]
  },
  {
   "cell_type": "code",
   "execution_count": 29,
   "metadata": {},
   "outputs": [],
   "source": [
    "def scaler(train_scaled):\n",
    "    min_max = MinMaxScaler((0, 1))\n",
    "    train_scaled = min_max.fit_transform(train_scaled)\n",
    "    return train_scaled"
   ]
  },
  {
   "cell_type": "code",
   "execution_count": 30,
   "metadata": {},
   "outputs": [],
   "source": [
    "def split_train_test(train_scaled, Y):\n",
    "    factor = 0.80\n",
    "\n",
    "    length = train_scaled.shape[0]\n",
    "\n",
    "    total_for_train = int(length*factor)\n",
    "\n",
    "    X_train = np.array(train_scaled[:total_for_train])\n",
    "    Y_train = np.array(Y[:total_for_train])\n",
    "    X_test = np.array(train_scaled[total_for_train:])\n",
    "    Y_test = np.array(Y[total_for_train:])\n",
    "    \n",
    "    return X_train, Y_train, X_test, Y_test"
   ]
  },
  {
   "cell_type": "code",
   "execution_count": 32,
   "metadata": {},
   "outputs": [],
   "source": [
    "def reshape_3d(X_train,X_test):\n",
    "    X_train = np.reshape(X_train, (X_train.shape[0], 1, X_train.shape[1]))\n",
    "    X_test = np.reshape(X_test, (X_test.shape[0], 1, X_test.shape[1] ))\n",
    "    return X_train, X_test"
   ]
  },
  {
   "cell_type": "code",
   "execution_count": 33,
   "metadata": {},
   "outputs": [],
   "source": [
    "\n",
    "def build_model(X_train, Y_train,X_test, Y_test):\n",
    "    model=Sequential()\n",
    "    model.add(tf.keras.layers.LSTM(100,input_shape=(X_train.shape[1], X_train.shape[2]),return_sequences=True))\n",
    "    model.add(tf.keras.layers.LSTM(100,return_sequences=True))\n",
    "    model.add(tf.keras.layers.LSTM(100,return_sequences=True))\n",
    "    model.add(tf.keras.layers.LSTM(100,return_sequences=False))\n",
    "    model.add(tf.keras.layers.Dense(1,activation='sigmoid'))\n",
    "    opt = tf.keras.optimizers.Adam(learning_rate=0.01)\n",
    "\n",
    "    model.compile(loss='binary_crossentropy',optimizer=opt,metrics=['acc'])\n",
    "\n",
    "    history=model.fit(X_train,Y_train,batch_size=64,epochs=100, validation_data=(X_test,Y_test))\n",
    "   \n",
    "    return model"
   ]
  },
  {
   "cell_type": "code",
   "execution_count": 47,
   "metadata": {},
   "outputs": [
    {
     "name": "stdout",
     "output_type": "stream",
     "text": [
      "[*********************100%***********************]  1 of 1 completed\n",
      "WARNING:tensorflow:From C:\\Users\\Parth\\anaconda3\\lib\\site-packages\\tensorflow_core\\python\\ops\\resource_variable_ops.py:1630: calling BaseResourceVariable.__init__ (from tensorflow.python.ops.resource_variable_ops) with constraint is deprecated and will be removed in a future version.\n",
      "Instructions for updating:\n",
      "If using Keras pass *_constraint arguments to layers.\n",
      "WARNING:tensorflow:From C:\\Users\\Parth\\anaconda3\\lib\\site-packages\\tensorflow_core\\python\\ops\\nn_impl.py:183: where (from tensorflow.python.ops.array_ops) is deprecated and will be removed in a future version.\n",
      "Instructions for updating:\n",
      "Use tf.where in 2.0, which has the same broadcast rule as np.where\n",
      "Train on 5844 samples, validate on 1461 samples\n",
      "Epoch 1/100\n",
      "5844/5844 [==============================] - 2s 297us/sample - loss: 0.4731 - acc: 0.7182 - val_loss: 0.1800 - val_acc: 0.9268\n",
      "Epoch 2/100\n",
      "5844/5844 [==============================] - 0s 76us/sample - loss: 0.0915 - acc: 0.9670 - val_loss: 0.0926 - val_acc: 0.9541\n",
      "Epoch 3/100\n",
      "5844/5844 [==============================] - 0s 71us/sample - loss: 0.0512 - acc: 0.9764 - val_loss: 0.0632 - val_acc: 0.9822\n",
      "Epoch 4/100\n",
      "5844/5844 [==============================] - 0s 75us/sample - loss: 0.0692 - acc: 0.9702 - val_loss: 0.1987 - val_acc: 0.9062\n",
      "Epoch 5/100\n",
      "5844/5844 [==============================] - 0s 80us/sample - loss: 0.0411 - acc: 0.9824 - val_loss: 0.0602 - val_acc: 0.9692\n",
      "Epoch 6/100\n",
      "5844/5844 [==============================] - 0s 71us/sample - loss: 0.0377 - acc: 0.9843 - val_loss: 0.0960 - val_acc: 0.9562\n",
      "Epoch 7/100\n",
      "5844/5844 [==============================] - 0s 78us/sample - loss: 0.0531 - acc: 0.9832 - val_loss: 0.0542 - val_acc: 0.9808\n",
      "Epoch 8/100\n",
      "5844/5844 [==============================] - 0s 71us/sample - loss: 0.0369 - acc: 0.9867 - val_loss: 0.0743 - val_acc: 0.9678\n",
      "Epoch 9/100\n",
      "5844/5844 [==============================] - 0s 71us/sample - loss: 0.0325 - acc: 0.9872 - val_loss: 0.0668 - val_acc: 0.9678\n",
      "Epoch 10/100\n",
      "5844/5844 [==============================] - 0s 74us/sample - loss: 0.0366 - acc: 0.9861 - val_loss: 0.1288 - val_acc: 0.9336\n",
      "Epoch 11/100\n",
      "5844/5844 [==============================] - 0s 71us/sample - loss: 0.0375 - acc: 0.9837 - val_loss: 0.0347 - val_acc: 0.9870\n",
      "Epoch 12/100\n",
      "5844/5844 [==============================] - 0s 76us/sample - loss: 0.0394 - acc: 0.9851 - val_loss: 0.0544 - val_acc: 0.9726\n",
      "Epoch 13/100\n",
      "5844/5844 [==============================] - 0s 71us/sample - loss: 0.0511 - acc: 0.9786 - val_loss: 0.0758 - val_acc: 0.9671\n",
      "Epoch 14/100\n",
      "5844/5844 [==============================] - 0s 74us/sample - loss: 0.0304 - acc: 0.9887 - val_loss: 0.1415 - val_acc: 0.9233\n",
      "Epoch 15/100\n",
      "5844/5844 [==============================] - 0s 75us/sample - loss: 0.0356 - acc: 0.9846 - val_loss: 0.0470 - val_acc: 0.9952\n",
      "Epoch 16/100\n",
      "5844/5844 [==============================] - 0s 75us/sample - loss: 0.0264 - acc: 0.9908 - val_loss: 0.0342 - val_acc: 0.9904\n",
      "Epoch 17/100\n",
      "5844/5844 [==============================] - 0s 72us/sample - loss: 0.0215 - acc: 0.9926 - val_loss: 0.0434 - val_acc: 0.9802\n",
      "Epoch 18/100\n",
      "5844/5844 [==============================] - 0s 72us/sample - loss: 0.0346 - acc: 0.9837 - val_loss: 0.0508 - val_acc: 0.9781\n",
      "Epoch 19/100\n",
      "5844/5844 [==============================] - 0s 72us/sample - loss: 0.0274 - acc: 0.9875 - val_loss: 0.0533 - val_acc: 0.9808\n",
      "Epoch 20/100\n",
      "5844/5844 [==============================] - ETA: 0s - loss: 0.0203 - acc: 0.992 - 0s 76us/sample - loss: 0.0202 - acc: 0.9928 - val_loss: 0.2211 - val_acc: 0.9350\n",
      "Epoch 21/100\n",
      "5844/5844 [==============================] - 0s 71us/sample - loss: 0.0280 - acc: 0.9877 - val_loss: 0.0420 - val_acc: 0.9856\n",
      "Epoch 22/100\n",
      "5844/5844 [==============================] - 0s 72us/sample - loss: 0.0313 - acc: 0.9885 - val_loss: 0.0431 - val_acc: 0.9938\n",
      "Epoch 23/100\n",
      "5844/5844 [==============================] - 0s 76us/sample - loss: 0.0221 - acc: 0.9914 - val_loss: 0.0508 - val_acc: 0.9760\n",
      "Epoch 24/100\n",
      "5844/5844 [==============================] - 0s 71us/sample - loss: 0.0617 - acc: 0.9783 - val_loss: 0.0790 - val_acc: 0.9651\n",
      "Epoch 25/100\n",
      "5844/5844 [==============================] - 0s 73us/sample - loss: 0.0236 - acc: 0.9920 - val_loss: 0.0413 - val_acc: 0.9849\n",
      "Epoch 26/100\n",
      "5844/5844 [==============================] - 0s 71us/sample - loss: 0.0234 - acc: 0.9911 - val_loss: 0.0772 - val_acc: 0.9596\n",
      "Epoch 27/100\n",
      "5844/5844 [==============================] - 0s 72us/sample - loss: 0.0165 - acc: 0.9952 - val_loss: 0.0484 - val_acc: 0.9795\n",
      "Epoch 28/100\n",
      "5844/5844 [==============================] - 0s 75us/sample - loss: 0.0218 - acc: 0.9925 - val_loss: 0.0379 - val_acc: 0.9808\n",
      "Epoch 29/100\n",
      "5844/5844 [==============================] - 0s 71us/sample - loss: 0.0158 - acc: 0.9952 - val_loss: 0.1345 - val_acc: 0.9610\n",
      "Epoch 30/100\n",
      "5844/5844 [==============================] - 0s 72us/sample - loss: 0.0279 - acc: 0.9899 - val_loss: 0.1716 - val_acc: 0.9452\n",
      "Epoch 31/100\n",
      "5844/5844 [==============================] - 0s 77us/sample - loss: 0.0234 - acc: 0.9909 - val_loss: 0.0418 - val_acc: 0.9802\n",
      "Epoch 32/100\n",
      "5844/5844 [==============================] - 0s 75us/sample - loss: 0.0227 - acc: 0.9911 - val_loss: 0.0404 - val_acc: 0.9884\n",
      "Epoch 33/100\n",
      "5844/5844 [==============================] - 0s 76us/sample - loss: 0.0213 - acc: 0.9932 - val_loss: 0.0803 - val_acc: 0.9589\n",
      "Epoch 34/100\n",
      "5844/5844 [==============================] - 0s 72us/sample - loss: 0.0212 - acc: 0.9923 - val_loss: 0.0255 - val_acc: 0.9945\n",
      "Epoch 35/100\n",
      "5844/5844 [==============================] - 0s 76us/sample - loss: 0.0150 - acc: 0.9950 - val_loss: 0.0292 - val_acc: 0.9890\n",
      "Epoch 36/100\n",
      "5844/5844 [==============================] - 0s 76us/sample - loss: 0.0205 - acc: 0.9926 - val_loss: 0.0586 - val_acc: 0.9699\n",
      "Epoch 37/100\n",
      "5844/5844 [==============================] - 0s 74us/sample - loss: 0.0264 - acc: 0.9901 - val_loss: 0.0440 - val_acc: 0.9938\n",
      "Epoch 38/100\n",
      "5844/5844 [==============================] - 0s 74us/sample - loss: 0.0211 - acc: 0.9916 - val_loss: 0.0264 - val_acc: 0.9952\n",
      "Epoch 39/100\n",
      "5844/5844 [==============================] - 0s 71us/sample - loss: 0.0193 - acc: 0.9926 - val_loss: 0.0455 - val_acc: 0.9767\n",
      "Epoch 40/100\n",
      "5844/5844 [==============================] - 0s 80us/sample - loss: 0.0163 - acc: 0.9932 - val_loss: 0.0319 - val_acc: 0.9911\n",
      "Epoch 41/100\n",
      "5844/5844 [==============================] - 0s 81us/sample - loss: 0.0216 - acc: 0.9937 - val_loss: 0.0501 - val_acc: 0.9767\n",
      "Epoch 42/100\n",
      "5844/5844 [==============================] - 0s 75us/sample - loss: 0.0299 - acc: 0.9896 - val_loss: 0.0622 - val_acc: 0.9733\n",
      "Epoch 43/100\n",
      "5844/5844 [==============================] - 0s 74us/sample - loss: 0.0221 - acc: 0.9914 - val_loss: 0.0437 - val_acc: 0.9863\n",
      "Epoch 44/100\n",
      "5844/5844 [==============================] - 0s 73us/sample - loss: 0.0132 - acc: 0.9947 - val_loss: 0.0373 - val_acc: 0.9808\n",
      "Epoch 45/100\n",
      "5844/5844 [==============================] - 0s 74us/sample - loss: 0.0159 - acc: 0.9940 - val_loss: 0.0458 - val_acc: 0.9781\n",
      "Epoch 46/100\n",
      "5844/5844 [==============================] - 1s 90us/sample - loss: 0.0166 - acc: 0.9935 - val_loss: 0.0326 - val_acc: 0.9856\n",
      "Epoch 47/100\n",
      "5844/5844 [==============================] - 0s 78us/sample - loss: 0.0240 - acc: 0.9914 - val_loss: 0.0311 - val_acc: 0.9863\n",
      "Epoch 48/100\n",
      "5844/5844 [==============================] - 1s 86us/sample - loss: 0.0156 - acc: 0.9949 - val_loss: 0.0301 - val_acc: 0.9911\n",
      "Epoch 49/100\n",
      "5844/5844 [==============================] - 0s 83us/sample - loss: 0.0179 - acc: 0.9940 - val_loss: 0.0320 - val_acc: 0.9918\n",
      "Epoch 50/100\n",
      "5844/5844 [==============================] - 0s 79us/sample - loss: 0.0114 - acc: 0.9959 - val_loss: 0.0316 - val_acc: 0.9884\n",
      "Epoch 51/100\n",
      "5844/5844 [==============================] - 0s 80us/sample - loss: 0.0199 - acc: 0.9916 - val_loss: 0.0322 - val_acc: 0.9877\n",
      "Epoch 52/100\n",
      "5844/5844 [==============================] - 0s 72us/sample - loss: 0.0213 - acc: 0.9921 - val_loss: 0.0323 - val_acc: 0.9918\n",
      "Epoch 53/100\n",
      "5844/5844 [==============================] - 0s 75us/sample - loss: 0.0146 - acc: 0.9950 - val_loss: 0.0303 - val_acc: 0.9932\n",
      "Epoch 54/100\n"
     ]
    },
    {
     "name": "stdout",
     "output_type": "stream",
     "text": [
      "5844/5844 [==============================] - 0s 75us/sample - loss: 0.0113 - acc: 0.9964 - val_loss: 0.0196 - val_acc: 0.9952\n",
      "Epoch 55/100\n",
      "5844/5844 [==============================] - 0s 70us/sample - loss: 0.0217 - acc: 0.9916 - val_loss: 0.0280 - val_acc: 0.9904\n",
      "Epoch 56/100\n",
      "5844/5844 [==============================] - 0s 80us/sample - loss: 0.0122 - acc: 0.9961 - val_loss: 0.0252 - val_acc: 0.9918\n",
      "Epoch 57/100\n",
      "5844/5844 [==============================] - 0s 78us/sample - loss: 0.0202 - acc: 0.9928 - val_loss: 0.0577 - val_acc: 0.9726\n",
      "Epoch 58/100\n",
      "5844/5844 [==============================] - 0s 78us/sample - loss: 0.0144 - acc: 0.9942 - val_loss: 0.0469 - val_acc: 0.9760\n",
      "Epoch 59/100\n",
      "5844/5844 [==============================] - 0s 73us/sample - loss: 0.0116 - acc: 0.9961 - val_loss: 0.0761 - val_acc: 0.9699\n",
      "Epoch 60/100\n",
      "5844/5844 [==============================] - 0s 73us/sample - loss: 0.0143 - acc: 0.9942 - val_loss: 0.0242 - val_acc: 0.9938\n",
      "Epoch 61/100\n",
      "5844/5844 [==============================] - 0s 82us/sample - loss: 0.0221 - acc: 0.9921 - val_loss: 0.0671 - val_acc: 0.9706\n",
      "Epoch 62/100\n",
      "5844/5844 [==============================] - 0s 75us/sample - loss: 0.0156 - acc: 0.9935 - val_loss: 0.0280 - val_acc: 0.9918\n",
      "Epoch 63/100\n",
      "5844/5844 [==============================] - 0s 80us/sample - loss: 0.0144 - acc: 0.9956 - val_loss: 0.0286 - val_acc: 0.9911\n",
      "Epoch 64/100\n",
      "5844/5844 [==============================] - 0s 84us/sample - loss: 0.0156 - acc: 0.9949 - val_loss: 0.0294 - val_acc: 0.9890\n",
      "Epoch 65/100\n",
      "5844/5844 [==============================] - 0s 72us/sample - loss: 0.0158 - acc: 0.9942 - val_loss: 0.0223 - val_acc: 0.9932\n",
      "Epoch 66/100\n",
      "5844/5844 [==============================] - 0s 77us/sample - loss: 0.0103 - acc: 0.9954 - val_loss: 0.0253 - val_acc: 0.9911\n",
      "Epoch 67/100\n",
      "5844/5844 [==============================] - 0s 72us/sample - loss: 0.0113 - acc: 0.9952 - val_loss: 0.0477 - val_acc: 0.9767\n",
      "Epoch 68/100\n",
      "5844/5844 [==============================] - 0s 76us/sample - loss: 0.0212 - acc: 0.9933 - val_loss: 0.0232 - val_acc: 0.9945\n",
      "Epoch 69/100\n",
      "5844/5844 [==============================] - 0s 75us/sample - loss: 0.0141 - acc: 0.9932 - val_loss: 0.0282 - val_acc: 0.9932\n",
      "Epoch 70/100\n",
      "5844/5844 [==============================] - 0s 81us/sample - loss: 0.0097 - acc: 0.9962 - val_loss: 0.0160 - val_acc: 0.9966\n",
      "Epoch 71/100\n",
      "5844/5844 [==============================] - 0s 83us/sample - loss: 0.0172 - acc: 0.9937 - val_loss: 0.0351 - val_acc: 0.9795\n",
      "Epoch 72/100\n",
      "5844/5844 [==============================] - 0s 75us/sample - loss: 0.0098 - acc: 0.9962 - val_loss: 0.0221 - val_acc: 0.9925\n",
      "Epoch 73/100\n",
      "5844/5844 [==============================] - 0s 75us/sample - loss: 0.0136 - acc: 0.9949 - val_loss: 0.0266 - val_acc: 0.9945\n",
      "Epoch 74/100\n",
      "5844/5844 [==============================] - 0s 71us/sample - loss: 0.0107 - acc: 0.9964 - val_loss: 0.0181 - val_acc: 0.9959\n",
      "Epoch 75/100\n",
      "5844/5844 [==============================] - 0s 72us/sample - loss: 0.0127 - acc: 0.9947 - val_loss: 0.0223 - val_acc: 0.9979\n",
      "Epoch 76/100\n",
      "5844/5844 [==============================] - 0s 83us/sample - loss: 0.0082 - acc: 0.9973 - val_loss: 0.0352 - val_acc: 0.9884\n",
      "Epoch 77/100\n",
      "5844/5844 [==============================] - 0s 71us/sample - loss: 0.0350 - acc: 0.9877 - val_loss: 0.0289 - val_acc: 0.9884\n",
      "Epoch 78/100\n",
      "5844/5844 [==============================] - 0s 72us/sample - loss: 0.0244 - acc: 0.9914 - val_loss: 0.0222 - val_acc: 0.9925\n",
      "Epoch 79/100\n",
      "5844/5844 [==============================] - 0s 73us/sample - loss: 0.0121 - acc: 0.9954 - val_loss: 0.0477 - val_acc: 0.9740\n",
      "Epoch 80/100\n",
      "5844/5844 [==============================] - 0s 71us/sample - loss: 0.0102 - acc: 0.9957 - val_loss: 0.0474 - val_acc: 0.9767\n",
      "Epoch 81/100\n",
      "5844/5844 [==============================] - 0s 73us/sample - loss: 0.0122 - acc: 0.9956 - val_loss: 0.0284 - val_acc: 0.9863\n",
      "Epoch 82/100\n",
      "5844/5844 [==============================] - 0s 71us/sample - loss: 0.0158 - acc: 0.9945 - val_loss: 0.0275 - val_acc: 0.9884\n",
      "Epoch 83/100\n",
      "5844/5844 [==============================] - 0s 70us/sample - loss: 0.0108 - acc: 0.9964 - val_loss: 0.0226 - val_acc: 0.9918\n",
      "Epoch 84/100\n",
      "5844/5844 [==============================] - 0s 74us/sample - loss: 0.0101 - acc: 0.9964 - val_loss: 0.0274 - val_acc: 0.9904\n",
      "Epoch 85/100\n",
      "5844/5844 [==============================] - 1s 86us/sample - loss: 0.0112 - acc: 0.9949 - val_loss: 0.0178 - val_acc: 0.9959\n",
      "Epoch 86/100\n",
      "5844/5844 [==============================] - 1s 100us/sample - loss: 0.0083 - acc: 0.9969 - val_loss: 0.0167 - val_acc: 0.9979\n",
      "Epoch 87/100\n",
      "5844/5844 [==============================] - 0s 77us/sample - loss: 0.0082 - acc: 0.9967 - val_loss: 0.0167 - val_acc: 0.9959\n",
      "Epoch 88/100\n",
      "5844/5844 [==============================] - 0s 75us/sample - loss: 0.0105 - acc: 0.9961 - val_loss: 0.0224 - val_acc: 0.9925\n",
      "Epoch 89/100\n",
      "5844/5844 [==============================] - 0s 72us/sample - loss: 0.0113 - acc: 0.9962 - val_loss: 0.0241 - val_acc: 0.9986\n",
      "Epoch 90/100\n",
      "5844/5844 [==============================] - 0s 72us/sample - loss: 0.0099 - acc: 0.9973 - val_loss: 0.0170 - val_acc: 0.9959\n",
      "Epoch 91/100\n",
      "5844/5844 [==============================] - 0s 77us/sample - loss: 0.0085 - acc: 0.9966 - val_loss: 0.0184 - val_acc: 0.9938\n",
      "Epoch 92/100\n",
      "5844/5844 [==============================] - 0s 76us/sample - loss: 0.0079 - acc: 0.9969 - val_loss: 0.0248 - val_acc: 0.9925\n",
      "Epoch 93/100\n",
      "5844/5844 [==============================] - 0s 83us/sample - loss: 0.0095 - acc: 0.9971 - val_loss: 0.0286 - val_acc: 0.9897\n",
      "Epoch 94/100\n",
      "5844/5844 [==============================] - 0s 83us/sample - loss: 0.0127 - acc: 0.9944 - val_loss: 0.0217 - val_acc: 0.9932\n",
      "Epoch 95/100\n",
      "5844/5844 [==============================] - 0s 80us/sample - loss: 0.0088 - acc: 0.9973 - val_loss: 0.0195 - val_acc: 0.9932\n",
      "Epoch 96/100\n",
      "5844/5844 [==============================] - 1s 87us/sample - loss: 0.0099 - acc: 0.9962 - val_loss: 0.0185 - val_acc: 0.9938\n",
      "Epoch 97/100\n",
      "5844/5844 [==============================] - 1s 93us/sample - loss: 0.0162 - acc: 0.9937 - val_loss: 0.0460 - val_acc: 0.9802\n",
      "Epoch 98/100\n",
      "5844/5844 [==============================] - 1s 104us/sample - loss: 0.0103 - acc: 0.9961 - val_loss: 0.0240 - val_acc: 0.9911\n",
      "Epoch 99/100\n",
      "5844/5844 [==============================] - 0s 81us/sample - loss: 0.0130 - acc: 0.9959 - val_loss: 0.0471 - val_acc: 0.9781\n",
      "Epoch 100/100\n",
      "5844/5844 [==============================] - 0s 82us/sample - loss: 0.0099 - acc: 0.9966 - val_loss: 0.0185 - val_acc: 0.9932\n"
     ]
    }
   ],
   "source": [
    "start = datetime.strptime('1990-01-01', '%Y-%m-%d')\n",
    "end = datetime.strptime('2019-1-01', '%Y-%m-%d')\n",
    "data = pdr.get_data_yahoo(\"AAPL\", start, end)\n",
    "data_smoothed = get_exp_preprocessing(data)\n",
    "data_processed = preprocesses(data_smoothed)\n",
    "X, Y = split_x_y(data_processed)\n",
    "X_scaled = scaler(X)\n",
    "X_train, Y_train, X_test, Y_test = split_train_test(X,Y)\n",
    "X_train, X_test = reshape_3d(X_train, X_test)\n",
    "model = build_model(X_train, Y_train, X_test, Y_test)\n"
   ]
  },
  {
   "cell_type": "code",
   "execution_count": 48,
   "metadata": {},
   "outputs": [
    {
     "name": "stdout",
     "output_type": "stream",
     "text": [
      "1461/1461 [==============================] - 0s 39us/sample - loss: 0.0185 - acc: 0.9932\n"
     ]
    },
    {
     "data": {
      "text/plain": [
       "[0.018452255324952045, 0.99315536]"
      ]
     },
     "execution_count": 48,
     "metadata": {},
     "output_type": "execute_result"
    }
   ],
   "source": [
    "model.evaluate(X_test,Y_test)\n"
   ]
  },
  {
   "cell_type": "code",
   "execution_count": 49,
   "metadata": {},
   "outputs": [
    {
     "name": "stdout",
     "output_type": "stream",
     "text": [
      "Model: \"sequential\"\n",
      "_________________________________________________________________\n",
      "Layer (type)                 Output Shape              Param #   \n",
      "=================================================================\n",
      "lstm (LSTM)                  (None, 1, 100)            41600     \n",
      "_________________________________________________________________\n",
      "lstm_1 (LSTM)                (None, 1, 100)            80400     \n",
      "_________________________________________________________________\n",
      "lstm_2 (LSTM)                (None, 1, 100)            80400     \n",
      "_________________________________________________________________\n",
      "lstm_3 (LSTM)                (None, 100)               80400     \n",
      "_________________________________________________________________\n",
      "dense (Dense)                (None, 1)                 101       \n",
      "=================================================================\n",
      "Total params: 282,901\n",
      "Trainable params: 282,901\n",
      "Non-trainable params: 0\n",
      "_________________________________________________________________\n"
     ]
    }
   ],
   "source": [
    "model.summary()\n"
   ]
  },
  {
   "cell_type": "code",
   "execution_count": 50,
   "metadata": {},
   "outputs": [
    {
     "data": {
      "image/png": "[encoded data removed]",
      "text/plain": [
       "<Figure size 1080x720 with 2 Axes>"
      ]
     },
     "metadata": {
      "needs_background": "light"
     },
     "output_type": "display_data"
    }
   ],
   "source": [
    "\n",
    "import matplotlib.pyplot as plt  \n",
    "plt.figure(1, figsize=(15,10) )  \n",
    "\n",
    "\n",
    "plt.subplot(211)  \n",
    "plt.plot(model.history.history['acc'])  \n",
    "plt.plot(model.history.history['val_acc'])  \n",
    "plt.title(' acc')  \n",
    "plt.ylabel('acc')  \n",
    "plt.xlabel('epoch')  \n",
    "plt.legend(['train', 'test'], loc='upper left')  \n",
    "\n",
    "plt.subplot(212)  \n",
    "plt.plot(model.history.history['loss'])  \n",
    "plt.plot(model.history.history['val_loss'])  \n",
    "plt.title(' loss')  \n",
    "plt.ylabel('loss')  \n",
    "plt.xlabel('epoch')  \n",
    "plt.legend(['train', 'test'], loc='upper left')  \n",
    "plt.show()  "
   ]
  },
  {
   "cell_type": "code",
   "execution_count": 51,
   "metadata": {},
   "outputs": [],
   "source": [
    "y_pred=model.predict(X_test)\n",
    "rounded = np.round(y_pred)\n",
    "rounded = rounded.reshape(-1)"
   ]
  },
  {
   "cell_type": "code",
   "execution_count": 55,
   "metadata": {},
   "outputs": [
    {
     "data": {
      "text/plain": [
       "[Text(0, 0.5, 'Down'), Text(0, 1.5, 'Up')]"
      ]
     },
     "execution_count": 55,
     "metadata": {},
     "output_type": "execute_result"
    },
    {
     "data": {
      "image/png": "[encoded data removed]",
      "text/plain": [
       "<Figure size 432x288 with 2 Axes>"
      ]
     },
     "metadata": {
      "needs_background": "light"
     },
     "output_type": "display_data"
    }
   ],
   "source": [
    "import sklearn.metrics as metrics\n",
    "fig, ax=plt.subplots()\n",
    "sns.heatmap(pd.DataFrame(metrics.confusion_matrix(Y_test, rounded)), annot=True, cmap=\"Blues\" ,fmt='g')\n",
    "plt.title('Confusion matrix'); plt.ylabel('Actual label'); plt.xlabel('Predicted label')\n",
    "ax.xaxis.set_ticklabels(['Down', 'Up']); ax.yaxis.set_ticklabels(['Down', 'Up'])"
   ]
  },
  {
   "cell_type": "code",
   "execution_count": null,
   "metadata": {},
   "outputs": [],
   "source": []
  }
 ],
 "metadata": {
  "kernelspec": {
   "display_name": "Python 3",
   "language": "python",
   "name": "python3"
  },
  "language_info": {
   "codemirror_mode": {
    "name": "ipython",
    "version": 3
   },
   "file_extension": ".py",
   "mimetype": "text/x-python",
   "name": "python",
   "nbconvert_exporter": "python",
   "pygments_lexer": "ipython3",
   "version": "3.7.6"
  }
 },
 "nbformat": 4,
 "nbformat_minor": 4
}
